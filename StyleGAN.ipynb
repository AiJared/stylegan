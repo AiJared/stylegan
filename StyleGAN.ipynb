{
  "nbformat": 4,
  "nbformat_minor": 0,
  "metadata": {
    "colab": {
      "provenance": [],
      "authorship_tag": "ABX9TyOo+J2nUA1cs8tE8gyH2+Y/",
      "include_colab_link": true
    },
    "kernelspec": {
      "name": "python3",
      "display_name": "Python 3"
    },
    "language_info": {
      "name": "python"
    }
  },
  "cells": [
    {
      "cell_type": "markdown",
      "metadata": {
        "id": "view-in-github",
        "colab_type": "text"
      },
      "source": [
        "<a href=\"https://colab.research.google.com/github/AiJared/stylegan/blob/main/StyleGAN.ipynb\" target=\"_parent\"><img src=\"https://colab.research.google.com/assets/colab-badge.svg\" alt=\"Open In Colab\"/></a>"
      ]
    },
    {
      "cell_type": "code",
      "execution_count": 1,
      "metadata": {
        "id": "9FkdHHvTFAp8"
      },
      "outputs": [],
      "source": [
        "import tensorflow as tf\n",
        "import numpy as np\n",
        "import matplotlib.pyplot as plt\n",
        "import keras"
      ]
    },
    {
      "cell_type": "code",
      "source": [
        "from google.colab import drive\n",
        "drive.mount('/content/MyDrive')"
      ],
      "metadata": {
        "colab": {
          "base_uri": "https://localhost:8080/"
        },
        "id": "xIR1MI7PSop_",
        "outputId": "7f02971d-5df3-422e-8d14-87f651187640"
      },
      "execution_count": 3,
      "outputs": [
        {
          "output_type": "stream",
          "name": "stdout",
          "text": [
            "Mounted at /content/MyDrive\n"
          ]
        }
      ]
    },
    {
      "cell_type": "code",
      "source": [
        "class StyleGAN:\n",
        "  def __init__(self, img_shape=(256, 256, 3), latent_dim=512, n_styles=18):\n",
        "    \"\"\"\n",
        "    Initialize stylegan with specific parameters\n",
        "\n",
        "    Args:\n",
        "      img_shape(tuple): Dimensions of output images\n",
        "      latent_dim(int): Dimensionality of the input latent space\n",
        "      n_styles(int): Number of style layers\n",
        "    \"\"\"\n",
        "\n",
        "    self.img_shape = img_shape\n",
        "    self.latent_dim = latent_dim\n",
        "    self.n_styles = n_styles\n",
        "\n",
        "    # Key StyleGAN Components\n",
        "    self.mapping_network = self.build_mapping_network()\n",
        "    self.synthesis_network = self.build_synthesis_network()\n",
        "    self.discriminator = self.build_discriminator()\n",
        "\n",
        "    # Compile the full generator and adversarial model\n",
        "    self.generator = self.build_generator()\n",
        "    self.adversarial_model = self.build_adversarial_model()\n",
        "\n",
        "  def build_mapping_network(self):\n",
        "    \"\"\"\n",
        "    Mapping network: Transforms input noise to intermediate latent space\n",
        "    Key styleGAN Innovation: Non-linear transformation of input noise\n",
        "    \"\"\"\n",
        "\n",
        "    model  = keras.Sequential([\n",
        "        keras.layers.Dense(self.latent_dim, activation='relu'),\n",
        "        keras.layers.Dense(self.latent_dim, activation='relu'),\n",
        "        keras.layers.Dense(self.latent_dim, activation='relu')\n",
        "    ])\n",
        "\n",
        "    return model\n",
        "\n",
        "  def build_style_block(self, out_channels, upsample=True):\n",
        "    \"\"\"\n",
        "    Create a style block with Adaptive Instance Normalization (Adain) concept.\n",
        "\n",
        "    Args:\n",
        "      out_channels (int): Number of output channels\n",
        "      upsample (bool): Whether to upsample the feature map\n",
        "\n",
        "    Returns:\n",
        "      keras.Model: Style block model\n",
        "    \"\"\"\n",
        "\n",
        "    block = keras.Sequential()\n",
        "\n",
        "    if upsample:\n",
        "      # upsampling layer\n",
        "      block.add(keras.layers.UpSampling2D(size=(2,2)))\n",
        "\n",
        "    # convolutional layer\n",
        "    block.add(keras.layers.Conv2D(out_channels, 3, padding='same'))\n",
        "\n",
        "    # Noise input (Simulated AdaIN)\n",
        "    block.add(keras.layers.Lambda(lambda x: x + tf.random.normal(tf.shape(x)) * 0.1))\n",
        "\n",
        "    # Activate\n",
        "    block.add(keras.layers.LeakyReLU(0.2))\n",
        "\n",
        "    return block\n",
        "  def build_synthesis_network(self):\n",
        "    \"\"\"\n",
        "    synthesis network: Generates images from style vectors\n",
        "    Progressive growing of feature maps\n",
        "    \"\"\"\n",
        "\n",
        "    model = keras.Sequential([\n",
        "        # starting block\n",
        "        keras.layers.Dense(4 * 4 * 512, input_shape=(self.latent_dim,)),\n",
        "        keras.layers.Reshape((4, 4, 512)),\n",
        "\n",
        "        # Progressive style blocks\n",
        "        self.build_style_block(256), # 8x8\n",
        "        self.build_style_block(128), # 16x16\n",
        "        self.build_style_block(64), # 32x32\n",
        "        self.build_style_block(16), # 64x64\n",
        "\n",
        "        # Final convolution layer to match image channels\n",
        "        keras.layers.Conv2D(self.img_shape[2], 1, activation='tanh')\n",
        "    ])\n",
        "\n",
        "    return model\n",
        "\n",
        "  def build_discriminator(self):\n",
        "    \"\"\"\n",
        "\n",
        "    Discriminator Network: Distinguishes real from generated images\n",
        "    Uses multi-scale feature matching\n",
        "    \"\"\"\n",
        "\n",
        "    model = keras.Sequential([\n",
        "        # multi-scale feature extraction\n",
        "        keras.layers.Conv2D(64, 4, strides=2, padding='same', input_shape=self.img_shape),\n",
        "        keras.layers.LeakyReLU(0.2),\n",
        "\n",
        "        keras.layers.Conv2D(128, 4, strides=2, padding='same'),\n",
        "        keras.layers.BatchNormalization(),\n",
        "        keras.layers.LeakyReLU(0.2),\n",
        "\n",
        "        keras.layers.Conv2D(256, 4, strides=2, padding='same'),\n",
        "        keras.layers.BatchNormalization(),\n",
        "        keras.layers.LeakyReLU(0.2),\n",
        "\n",
        "        keras.layers.Flatten(),\n",
        "        keras.layers.Dense(1, activation='sigmoid')\n",
        "    ])\n",
        "\n",
        "    return model\n",
        "\n",
        "  def build_generator(self):\n",
        "    \"\"\"\n",
        "    Full Generator: Combines mapping and synthesis networks.\n",
        "    \"\"\"\n",
        "\n",
        "    def generator(noise):\n",
        "      # transform noise through mapping network\n",
        "      w = self.mapping_network(noise)\n",
        "\n",
        "      # generate image through synthesis network\n",
        "      image = self.synthesis_network(w)\n",
        "      return image"
      ],
      "metadata": {
        "id": "b0K4_avvS4HJ"
      },
      "execution_count": null,
      "outputs": []
    },
    {
      "cell_type": "code",
      "source": [],
      "metadata": {
        "id": "tQ4dynDSbIbD"
      },
      "execution_count": null,
      "outputs": []
    }
  ]
}