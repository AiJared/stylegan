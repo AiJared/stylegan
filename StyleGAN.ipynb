{
  "nbformat": 4,
  "nbformat_minor": 0,
  "metadata": {
    "colab": {
      "provenance": [],
      "authorship_tag": "ABX9TyPhU/d7yC5M58hsIy1/hUdr",
      "include_colab_link": true
    },
    "kernelspec": {
      "name": "python3",
      "display_name": "Python 3"
    },
    "language_info": {
      "name": "python"
    }
  },
  "cells": [
    {
      "cell_type": "markdown",
      "metadata": {
        "id": "view-in-github",
        "colab_type": "text"
      },
      "source": [
        "<a href=\"https://colab.research.google.com/github/AiJared/stylegan/blob/main/StyleGAN.ipynb\" target=\"_parent\"><img src=\"https://colab.research.google.com/assets/colab-badge.svg\" alt=\"Open In Colab\"/></a>"
      ]
    },
    {
      "cell_type": "code",
      "execution_count": 1,
      "metadata": {
        "id": "9FkdHHvTFAp8"
      },
      "outputs": [],
      "source": [
        "import tensorflow as tf\n",
        "import numpy as np\n",
        "import matplotlib.pyplot as plt\n",
        "import keras"
      ]
    },
    {
      "cell_type": "code",
      "source": [
        "from google.colab import drive\n",
        "drive.mount('/content/MyDrive')"
      ],
      "metadata": {
        "colab": {
          "base_uri": "https://localhost:8080/"
        },
        "id": "xIR1MI7PSop_",
        "outputId": "e91f2dfc-3c94-4c57-a06e-743464eb85db"
      },
      "execution_count": 2,
      "outputs": [
        {
          "output_type": "stream",
          "name": "stdout",
          "text": [
            "Mounted at /content/MyDrive\n"
          ]
        }
      ]
    },
    {
      "cell_type": "code",
      "source": [
        "class StyleGAN:\n",
        "  def __init__(self, img_shape=(256, 256, 3), latent_dim=512, n_styles=18):\n",
        "    \"\"\"\n",
        "    Initialize stylegan with specific parameters\n",
        "\n",
        "    Args:\n",
        "      img_shape(tuple): Dimensions of output images\n",
        "      latent_dim(int): Dimensionality of the input latent space\n",
        "      n_styles(int): Number of style layers\n",
        "    \"\"\"\n",
        "\n",
        "    self.img_shape = img_shape\n",
        "    self.latent_dim = latent_dim\n",
        "    self.n_styles = n_styles\n",
        "\n",
        "    # Key StyleGAN Components\n",
        "    self.mapping_network = self.build_mapping_network()\n",
        "    self.synthesis_network = self.build_synthesis_network()\n",
        "    self.discriminator = self.build_discriminator()\n",
        "\n",
        "    # Compile the full generator and adversarial model\n",
        "    self.generator = self.build_generator()\n",
        "    self.adversarial_model = self.build_adversarial_model()\n",
        "\n",
        "  def build_mapping_network(self):\n",
        "    \"\"\"\n",
        "    Mapping network: Transforms input noise to intermediate latent space\n",
        "    Key styleGAN Innovation: Non-linear transformation of input noise\n",
        "    \"\"\"\n",
        "\n",
        "    model  = keras.Sequential([\n",
        "        keras.layers.Dense(self.latent_dim, activation='relu'),\n",
        "        keras.layers.Dense(self.latent_dim, activation='relu'),\n",
        "        keras.layers.Dense(self.latent_dim, activation='relu')\n",
        "    ])\n",
        "\n",
        "    return model\n",
        "\n",
        "  def build_style_block(self, out_channels, upsample=True):\n",
        "    \"\"\"\n",
        "    Create a style block with Adaptive Instance Normalization (Adain) concept.\n",
        "\n",
        "    Args:\n",
        "      out_channels (int): Number of output channels\n",
        "      upsample (bool): Whether to upsample the feature map\n",
        "\n",
        "    Returns:\n",
        "      keras.Model: Style block model\n",
        "    \"\"\"\n",
        "\n",
        "    block = keras.Sequential()\n",
        "\n",
        "    if upsample:\n",
        "      # upsampling layer\n",
        "      block.add(keras.layers.UpSampling2D(size=(2,2)))\n",
        "\n"
      ],
      "metadata": {
        "id": "b0K4_avvS4HJ"
      },
      "execution_count": 3,
      "outputs": []
    },
    {
      "cell_type": "code",
      "source": [],
      "metadata": {
        "id": "tQ4dynDSbIbD"
      },
      "execution_count": null,
      "outputs": []
    }
  ]
}